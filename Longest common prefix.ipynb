{
 "cells": [
  {
   "cell_type": "markdown",
   "metadata": {},
   "source": []
  },
  {
   "cell_type": "code",
   "execution_count": 13,
   "metadata": {},
   "outputs": [
    {
     "name": "stdout",
     "output_type": "stream",
     "text": [
      "this is the longest common prefix : 'fl'\n"
     ]
    }
   ],
   "source": [
    "def longestCommonPrefix(strs: list[str]) -> str:\n",
    "    if len(strs) == 1:\n",
    "        return strs[0]\n",
    "    sol = \"\"\n",
    "    shortest = len(min(strs , key = len))-1\n",
    "    sz = len(strs)\n",
    "    j=0\n",
    "    while j <= shortest:\n",
    "        for i in range(1, sz):\n",
    "            if i == sz-1 and strs[i][j] == strs[i-1][j]:\n",
    "                sol+=strs[i][j]\n",
    "            elif strs[i][j] != strs[i-1][j]:\n",
    "                return sol\n",
    "            else:\n",
    "                continue\n",
    "        j+=1\n",
    "\n",
    "    return sol\n",
    "\n",
    "def main():\n",
    "    x = [\"flower\",\"flow\",\"flight\"]\n",
    "    print(f\"this is the longest common prefix : '{longestCommonPrefix(x)}'\")\n",
    "\n",
    "if __name__ == '__main__':\n",
    "    main()"
   ]
  }
 ],
 "metadata": {
  "kernelspec": {
   "display_name": "Python 3",
   "language": "python",
   "name": "python3"
  },
  "language_info": {
   "codemirror_mode": {
    "name": "ipython",
    "version": 3
   },
   "file_extension": ".py",
   "mimetype": "text/x-python",
   "name": "python",
   "nbconvert_exporter": "python",
   "pygments_lexer": "ipython3",
   "version": "3.10.7"
  }
 },
 "nbformat": 4,
 "nbformat_minor": 2
}
