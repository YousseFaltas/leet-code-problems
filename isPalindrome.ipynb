{
 "cells": [
  {
   "cell_type": "markdown",
   "metadata": {},
   "source": [
    "# palindrome Number:\n",
    "\n",
    "    Given an integer x, return true if x is a palindrome, and false otherwise. "
   ]
  },
  {
   "cell_type": "markdown",
   "metadata": {},
   "source": [
    "-Example 1:\n",
    "    Input: x = 121\n",
    "    Output: true\n",
    "\n",
    "-Example 2:\n",
    "    Input: x = -121\n",
    "    Output: false\n",
    "    \n",
    "-Example 3:\n",
    "    Input: x = 10\n",
    "    Output: false"
   ]
  },
  {
   "cell_type": "code",
   "execution_count": 1,
   "metadata": {},
   "outputs": [
    {
     "name": "stdout",
     "output_type": "stream",
     "text": [
      "is palindrome : True\n"
     ]
    }
   ],
   "source": [
    "def isPalindrome(x):\n",
    "    num = list(str(x))\n",
    "    num_reversed = list(str(x))\n",
    "    num_reversed.reverse()\n",
    "    return num == num_reversed\n",
    "\n",
    "def main():\n",
    "    num = input(\"enter the number : \")\n",
    "    print(f\"is palindrome : {isPalindrome(num)}\")\n",
    "\n",
    "if __name__ == \"__main__\" :\n",
    "    main()"
   ]
  }
 ],
 "metadata": {
  "kernelspec": {
   "display_name": "Python 3",
   "language": "python",
   "name": "python3"
  },
  "language_info": {
   "codemirror_mode": {
    "name": "ipython",
    "version": 3
   },
   "file_extension": ".py",
   "mimetype": "text/x-python",
   "name": "python",
   "nbconvert_exporter": "python",
   "pygments_lexer": "ipython3",
   "version": "3.10.7"
  }
 },
 "nbformat": 4,
 "nbformat_minor": 2
}
