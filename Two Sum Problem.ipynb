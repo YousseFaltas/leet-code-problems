{
 "cells": [
  {
   "cell_type": "markdown",
   "metadata": {},
   "source": [
    "#The Two Sum Problme:\n",
    "\n",
    "    Given an array of integers nums and an integer target, return indices of the two numbers such that they add up to target.\n",
    "    You may assume that each input would have exactly one solution, and you may not use the same element twice.\n",
    "    You can return the answer in any order."
   ]
  },
  {
   "cell_type": "markdown",
   "metadata": {},
   "source": [
    "Example 1:\n",
    "    Input: nums = [2,7,11,15], target = 9\n",
    "    Output: [0,1]\n",
    "    Explanation: Because nums[0] + nums[1] == 9, we return [0, 1].\n",
    "\n",
    "Example 2:\n",
    "    Input: nums = [3,2,4], target = 6\n",
    "    Output: [1,2]\n",
    "\n",
    "Example 3:\n",
    "    Input: nums = [3,3], target = 6\n",
    "    Output: [0,1]"
   ]
  },
  {
   "cell_type": "code",
   "execution_count": 2,
   "metadata": {},
   "outputs": [
    {
     "name": "stdout",
     "output_type": "stream",
     "text": [
      "output : [1, 2]\n"
     ]
    }
   ],
   "source": [
    "\n",
    "def twoSum(nums, target):\n",
    "    hashMap = {}\n",
    "    for i in range(len(nums)):\n",
    "        complement = target - nums[i]\n",
    "        if complement in hashMap:\n",
    "            return [hashMap[complement], i]\n",
    "        hashMap[nums[i]] = i\n",
    "    return []\n",
    "\n",
    "def main():\n",
    "    nums = [3,2,4]\n",
    "    target = 6\n",
    "    print(f\"output : {twoSum(nums , target)}\")\n",
    "\n",
    "if __name__ == \"__main__\":\n",
    "    main()"
   ]
  }
 ],
 "metadata": {
  "kernelspec": {
   "display_name": "Python 3",
   "language": "python",
   "name": "python3"
  },
  "language_info": {
   "codemirror_mode": {
    "name": "ipython",
    "version": 3
   },
   "file_extension": ".py",
   "mimetype": "text/x-python",
   "name": "python",
   "nbconvert_exporter": "python",
   "pygments_lexer": "ipython3",
   "version": "3.10.7"
  }
 },
 "nbformat": 4,
 "nbformat_minor": 2
}
