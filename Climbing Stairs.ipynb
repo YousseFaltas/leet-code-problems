{
 "cells": [
  {
   "cell_type": "markdown",
   "metadata": {},
   "source": [
    "# Climbing stairs:\n",
    "\n",
    "    You are climbing a staircase. It takes n steps to reach the top.\n",
    "    Each time you can either climb 1 or 2 steps. In how many distinct ways can you climb to the top?"
   ]
  },
  {
   "cell_type": "markdown",
   "metadata": {},
   "source": [
    "-Example 1:\n",
    "Input: n = 2\n",
    "Output: 2\n",
    "Explanation: There are two ways to climb to the top.\n",
    "1. 1 step + 1 step\n",
    "2. 2 steps\n",
    "\n",
    "-Example 2:\n",
    "Input: n = 3\n",
    "Output: 3\n",
    "Explanation: There are three ways to climb to the top.\n",
    "1. 1 step + 1 step + 1 step\n",
    "2. 1 step + 2 steps\n",
    "3. 2 steps + 1 step"
   ]
  },
  {
   "cell_type": "code",
   "execution_count": 2,
   "metadata": {},
   "outputs": [
    {
     "name": "stdout",
     "output_type": "stream",
     "text": [
      "you can climbe the stairs in 3 ways.\n"
     ]
    }
   ],
   "source": [
    "def climbStairs(n):\n",
    "    if n == 1 or n == 2:\n",
    "        return n\n",
    "    else:\n",
    "        num1, num2 = 1, 2\n",
    "        for i in range(2, n):\n",
    "            sum = num1 + num2\n",
    "            num1 = num2\n",
    "            num2 = sum\n",
    "        return sum\n",
    "\n",
    "num = int(input(\"enter number of steps: \"))\n",
    "print(f\"you can climbe the stairs in {climbStairs(num)} ways.\")"
   ]
  }
 ],
 "metadata": {
  "kernelspec": {
   "display_name": "Python 3",
   "language": "python",
   "name": "python3"
  },
  "language_info": {
   "codemirror_mode": {
    "name": "ipython",
    "version": 3
   },
   "file_extension": ".py",
   "mimetype": "text/x-python",
   "name": "python",
   "nbconvert_exporter": "python",
   "pygments_lexer": "ipython3",
   "version": "3.10.7"
  }
 },
 "nbformat": 4,
 "nbformat_minor": 2
}
